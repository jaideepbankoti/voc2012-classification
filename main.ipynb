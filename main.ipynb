{
  "nbformat": 4,
  "nbformat_minor": 0,
  "metadata": {
    "colab": {
      "name": "Assignment1_1.ipynb",
      "provenance": [],
      "collapsed_sections": []
    },
    "kernelspec": {
      "name": "python3",
      "display_name": "Python 3"
    }
  },
  "cells": [
    {
      "cell_type": "markdown",
      "metadata": {
        "id": "h8k5izbd9CHQ"
      },
      "source": [
        "## References:\n",
        "\n",
        "* Paper for Part3.: K. He, X. Zhang, S. Ren, and J. Sun. Deep residual learning for image recognition. arXiv preprint arXiv:1512.03385,2015.\n",
        "* https://github.com/kuangliu/pytorch-cifar/blob/master/models/resnet.py\n",
        "* https://stackoverflow.com/questions/7691514/extracting-text-from-xml-using-python\n",
        "* https://docs.python.org/2/library/xml.etree.elementtree.html\n",
        "* https://stackoverflow.com/questions/45113245/how-to-get-mini-batches-in-pytorch-in-a-clean-and-efficient-way\n",
        "* https://pytorch.org/tutorials/beginner/blitz/neural_networks_tutorial\n",
        "\n"
      ]
    },
    {
      "cell_type": "code",
      "metadata": {
        "id": "EljrWfgjdXq6",
        "outputId": "3b4d92e8-5148-4b9b-f2d6-7d6eb30de701",
        "colab": {
          "base_uri": "https://localhost:8080/",
          "height": 202
        }
      },
      "source": [
        "# downloading the whole dataset and unzipping it, I have used the PASCAL VOC 2012 dataset for both training and testing\n",
        "! wget https://data.deepai.org/PascalVOC2012.zip\n",
        "! unzip -qq \"PascalVOC2012.zip\""
      ],
      "execution_count": null,
      "outputs": [
        {
          "output_type": "stream",
          "text": [
            "--2020-10-03 15:03:36--  https://data.deepai.org/PascalVOC2012.zip\n",
            "Resolving data.deepai.org (data.deepai.org)... 138.201.36.183\n",
            "Connecting to data.deepai.org (data.deepai.org)|138.201.36.183|:443... connected.\n",
            "HTTP request sent, awaiting response... 200 OK\n",
            "Length: 3899239928 (3.6G) [application/x-zip-compressed]\n",
            "Saving to: ‘PascalVOC2012.zip’\n",
            "\n",
            "PascalVOC2012.zip   100%[===================>]   3.63G  28.3MB/s    in 2m 13s  \n",
            "\n",
            "2020-10-03 15:05:49 (28.0 MB/s) - ‘PascalVOC2012.zip’ saved [3899239928/3899239928]\n",
            "\n"
          ],
          "name": "stdout"
        }
      ]
    },
    {
      "cell_type": "code",
      "metadata": {
        "id": "kHxAMLlugo2J"
      },
      "source": [
        "# necessary imports here\n",
        "import time\n",
        "import os\n",
        "import cv2\n",
        "import matplotlib.pyplot as plt\n",
        "%matplotlib inline\n",
        "import numpy as np\n",
        "from xml.etree import cElementTree as ET\n",
        "import gc\n",
        "from tqdm import tqdm"
      ],
      "execution_count": null,
      "outputs": []
    },
    {
      "cell_type": "code",
      "metadata": {
        "id": "HA9_-uyMJZ8C"
      },
      "source": [
        "import torch\n",
        "import torchvision\n",
        "import torchvision.transforms as transforms"
      ],
      "execution_count": null,
      "outputs": []
    },
    {
      "cell_type": "code",
      "metadata": {
        "id": "0QEi5I37j95b"
      },
      "source": [
        "#VOC directory\n",
        "voc_dir_images = \"VOC2012/JPEGImages/\"\n",
        "voc_dir_annotations = \"VOC2012/Annotations/\""
      ],
      "execution_count": null,
      "outputs": []
    },
    {
      "cell_type": "code",
      "metadata": {
        "id": "d4aMvtmce67G"
      },
      "source": [
        "images = os.listdir(voc_dir_images)\n",
        "annotations = os.listdir(voc_dir_annotations)"
      ],
      "execution_count": null,
      "outputs": []
    },
    {
      "cell_type": "code",
      "metadata": {
        "id": "VBWAYCGWfDLq"
      },
      "source": [
        "# sorting images and annotations so they align\n",
        "images = sorted(images)\n",
        "annotations = sorted(annotations)"
      ],
      "execution_count": null,
      "outputs": []
    },
    {
      "cell_type": "code",
      "metadata": {
        "id": "cEKsECofgApd"
      },
      "source": [
        "# image0 = cv2.imread(voc_dir_images+images[0])[:,:,::-1]\n",
        "# ann0 = ET.parse(voc_dir_annotations+annotations[0])\n",
        "# labels[ann0.find(\"object/name\").text]"
      ],
      "execution_count": null,
      "outputs": []
    },
    {
      "cell_type": "code",
      "metadata": {
        "id": "zzcE8z98vfep"
      },
      "source": [
        "# encoding the labels\n",
        "labels = {\"aeroplane\":0, \"bicycle\":1, \"bird\":2, \"boat\":3, \"bottle\":4,\n",
        "          \"bus\":5, \"car\":6, \"cat\":7, \"chair\":8, \"cow\":9, \"diningtable\":10,\n",
        "          \"dog\":11, \"horse\":12, \"motorbike\":13, \"person\":14, \"pottedplant\":15,\n",
        "          \"sheep\":16, \"sofa\":17, \"train\":18, \"tvmonitor\":19}"
      ],
      "execution_count": null,
      "outputs": []
    },
    {
      "cell_type": "code",
      "metadata": {
        "id": "KNMJ0rXEmDoz"
      },
      "source": [
        "# reverse encoding of labels\n",
        "rev_labels = {v: k for k, v in labels.items()}"
      ],
      "execution_count": null,
      "outputs": []
    },
    {
      "cell_type": "code",
      "metadata": {
        "id": "iuWELc2lJkkl"
      },
      "source": [
        "# defining the resize scale\n",
        "resize = 32"
      ],
      "execution_count": null,
      "outputs": []
    },
    {
      "cell_type": "markdown",
      "metadata": {
        "id": "pJ32Gk9V6Y_4"
      },
      "source": [
        "## Defining Train set split"
      ]
    },
    {
      "cell_type": "code",
      "metadata": {
        "id": "H_77GbhRBjVh",
        "outputId": "8f891392-2814-4b84-cde2-d73f041aaa8c",
        "colab": {
          "base_uri": "https://localhost:8080/",
          "height": 34
        }
      },
      "source": [
        "# splitting the train and test set\n",
        "len(images)   # lets keep 12000 for training and rest for testing"
      ],
      "execution_count": null,
      "outputs": [
        {
          "output_type": "execute_result",
          "data": {
            "text/plain": [
              "17125"
            ]
          },
          "metadata": {
            "tags": []
          },
          "execution_count": 68
        }
      ]
    },
    {
      "cell_type": "code",
      "metadata": {
        "id": "T4FgUONk40SG"
      },
      "source": [
        "train_list = []\n",
        "test_list = []\n",
        "for i, item in enumerate(images):\n",
        "  if i<12000:\n",
        "    train_list.append(cv2.resize(cv2.imread(voc_dir_images+item)[:,:,::-1], (resize,resize)))\n",
        "  else:\n",
        "    test_list.append(cv2.resize(cv2.imread(voc_dir_images+item)[:,:,::-1], (resize,resize)))"
      ],
      "execution_count": null,
      "outputs": []
    },
    {
      "cell_type": "code",
      "metadata": {
        "id": "vbuYUii3HI-h"
      },
      "source": [
        "train_class_list = []\n",
        "test_class_list = []\n",
        "for i, item in enumerate(annotations):\n",
        "  ann = ET.parse(voc_dir_annotations+item)\n",
        "  # print(ann.find(\"object/name\").text)\n",
        "  if i<12000:\n",
        "    train_class_list.append(labels[ann.find(\"object/name\").text])\n",
        "  else:\n",
        "    test_class_list.append(labels[ann.find(\"object/name\").text])"
      ],
      "execution_count": null,
      "outputs": []
    },
    {
      "cell_type": "code",
      "metadata": {
        "id": "cT5kVAbzhWT_"
      },
      "source": [
        "# creating the train and test tensor for corresponding images and labels\n",
        "train_X = torch.tensor(train_list)\n",
        "train_Y = torch.tensor(train_class_list).reshape(-1,1)\n",
        "test_X = torch.tensor(test_list)\n",
        "test_Y = torch.tensor(test_class_list).reshape(-1,1)"
      ],
      "execution_count": null,
      "outputs": []
    },
    {
      "cell_type": "code",
      "metadata": {
        "id": "q7Li7jgphgJ6",
        "outputId": "f3b13e77-6b7a-4e33-93e6-1f96dc52fb32",
        "colab": {
          "base_uri": "https://localhost:8080/",
          "height": 50
        }
      },
      "source": [
        "print(train_X.shape, train_Y.shape) # checking for the input dimensions for training set\n",
        "print(test_X.shape, test_Y.shape) # checking for the input dimensions for testing set"
      ],
      "execution_count": null,
      "outputs": [
        {
          "output_type": "stream",
          "text": [
            "torch.Size([12000, 32, 32, 3]) torch.Size([12000, 1])\n",
            "torch.Size([5125, 32, 32, 3]) torch.Size([5125, 1])\n"
          ],
          "name": "stdout"
        }
      ]
    },
    {
      "cell_type": "markdown",
      "metadata": {
        "id": "P_RjpByQY-Fk"
      },
      "source": [
        "## Visualizing some of the data"
      ]
    },
    {
      "cell_type": "code",
      "metadata": {
        "id": "H0M9afJsY8C2",
        "outputId": "9bc5d623-39b5-4d0d-a173-7f32bb68b4df",
        "colab": {
          "base_uri": "https://localhost:8080/",
          "height": 208
        }
      },
      "source": [
        "# visualizing an intermediate layer output of first 8 channels\n",
        "plt.figure(figsize=(15,5))\n",
        "for i in range(5):\n",
        "  plt.subplot(1,5,i+1)\n",
        "  plt.imshow(train_X[i])\n",
        "  plt.title(rev_labels[train_Y[i].item()])\n",
        "plt.show()"
      ],
      "execution_count": null,
      "outputs": [
        {
          "output_type": "display_data",
          "data": {
            "image/png": "[encoded data removed]",
            "text/plain": [
              "<Figure size 1080x360 with 5 Axes>"
            ]
          },
          "metadata": {
            "tags": [],
            "needs_background": "light"
          }
        }
      ]
    },
    {
      "cell_type": "markdown",
      "metadata": {
        "id": "PXB5mYFefH5M"
      },
      "source": [
        "# PART 1. Defining the fully connected network"
      ]
    },
    {
      "cell_type": "code",
      "metadata": {
        "id": "yNie2f-4LZhd"
      },
      "source": [
        "import torch.nn as nn\n",
        "import torch.nn.functional as F\n",
        "import torch.optim as optim"
      ],
      "execution_count": null,
      "outputs": []
    },
    {
      "cell_type": "code",
      "metadata": {
        "id": "DE02gLJFSH5W"
      },
      "source": [
        "torch.manual_seed(0)\n",
        "np.random.seed(0)"
      ],
      "execution_count": null,
      "outputs": []
    },
    {
      "cell_type": "code",
      "metadata": {
        "id": "W_gbxVikKYs2"
      },
      "source": [
        "class FlatNetwork(nn.Module):\n",
        "    def __init__(self):\n",
        "        super(FlatNetwork, self).__init__()\n",
        "        self.fc1 = nn.Linear(resize * resize * 3, 1500)\n",
        "        self.fc2 = nn.Linear(1500, 840)\n",
        "        self.fc3 = nn.Linear(840, 300)\n",
        "        self.fc4 = nn.Linear(300, 100)\n",
        "        self.fc5 = nn.Linear(100, 20)\n",
        "\n",
        "    def forward(self, x):\n",
        "        x = F.relu(self.fc1(x))\n",
        "        x = F.relu(self.fc2(x))\n",
        "        x = F.relu(self.fc3(x))\n",
        "        x = F.relu(self.fc4(x))\n",
        "        x = self.fc5(x) # not using softmax() because the loss function F.cross_entropy(), implicitly performs the softmax()\n",
        "        return x"
      ],
      "execution_count": null,
      "outputs": []
    },
    {
      "cell_type": "code",
      "metadata": {
        "id": "cx5qKWk2NeU0"
      },
      "source": [
        "FN = FlatNetwork()"
      ],
      "execution_count": null,
      "outputs": []
    },
    {
      "cell_type": "code",
      "metadata": {
        "id": "T-LDda9ESmey"
      },
      "source": [
        "# definig a loss function and optimizer\n",
        "criterion = nn.CrossEntropyLoss()\n",
        "optimizer = optim.SGD(FN.parameters(), lr=0.001, momentum=0.9)"
      ],
      "execution_count": null,
      "outputs": []
    },
    {
      "cell_type": "code",
      "metadata": {
        "id": "4uUuk9N24DHz"
      },
      "source": [
        "# divind into minibatches\n",
        "batch_size = 128"
      ],
      "execution_count": null,
      "outputs": []
    },
    {
      "cell_type": "code",
      "metadata": {
        "id": "tiCSD_68l937",
        "outputId": "d44ddd5b-e89b-44d1-9461-8246cf8c51fd",
        "colab": {
          "base_uri": "https://localhost:8080/",
          "height": 470
        }
      },
      "source": [
        "st = time.time()\n",
        "for epoch in tqdm(range(6)):  # loop over the dataset multiple times\n",
        "\n",
        "    permutation = torch.randperm(train_X.size()[0])\n",
        "    running_loss = 0.0\n",
        "    print()\n",
        "    for i in range(0, train_X.size()[0], batch_size):\n",
        "      ind = permutation[i:i+batch_size]\n",
        "      batch_x = train_X[ind]\n",
        "      batch_y = train_Y[ind]\n",
        "\n",
        "      # zero the parameter gradients\n",
        "      optimizer.zero_grad()\n",
        "\n",
        "      # forward + backward + optimize\n",
        "      outputs = FN(batch_x.reshape(-1,resize*resize*3).float())\n",
        "      # outputs = outputs.argmax(dim=1).reshape(-1,1)\n",
        "      # print(outputs.shape,batch_ y.shape)\n",
        "      loss = criterion(outputs, batch_y.flatten())\n",
        "      loss.backward()\n",
        "      optimizer.step()\n",
        "\n",
        "      # print statistics\n",
        "      running_loss += loss.item()\n",
        "      if i>0 and (i // batch_size)%25 == 0:    # print after every 25th mini-batch\n",
        "          print(epoch + 1, i + 1, running_loss / 25, loss.item())\n",
        "          running_loss = 0.0\n",
        "\n",
        "print('Finished Training')\n",
        "et = time.time()\n",
        "print(\"Total time taken to train Simple Neural Network: \", et-st)"
      ],
      "execution_count": null,
      "outputs": [
        {
          "output_type": "stream",
          "text": [
            "\r  0%|          | 0/6 [00:00<?, ?it/s]"
          ],
          "name": "stderr"
        },
        {
          "output_type": "stream",
          "text": [
            "\n",
            "1 3201 3.419519443511963 2.8108410835266113\n",
            "1 6401 2.747341289520264 2.7461929321289062\n",
            "1 9601 2.746830759048462 2.637840747833252\n"
          ],
          "name": "stdout"
        },
        {
          "output_type": "stream",
          "text": [
            "\r 17%|█▋        | 1/6 [00:08<00:40,  8.13s/it]"
          ],
          "name": "stderr"
        },
        {
          "output_type": "stream",
          "text": [
            "\n",
            "2 3201 2.765052947998047 2.7572267055511475\n",
            "2 6401 2.6541072940826416 2.749213218688965\n",
            "2 9601 2.6091254806518553 2.5263123512268066\n"
          ],
          "name": "stdout"
        },
        {
          "output_type": "stream",
          "text": [
            "\r 33%|███▎      | 2/6 [00:16<00:32,  8.07s/it]"
          ],
          "name": "stderr"
        },
        {
          "output_type": "stream",
          "text": [
            "\n",
            "3 3201 2.6420766162872313 2.530857563018799\n",
            "3 6401 2.5584423637390135 2.5459561347961426\n",
            "3 9601 2.569229383468628 2.533226728439331\n"
          ],
          "name": "stdout"
        },
        {
          "output_type": "stream",
          "text": [
            "\r 50%|█████     | 3/6 [00:24<00:24,  8.04s/it]"
          ],
          "name": "stderr"
        },
        {
          "output_type": "stream",
          "text": [
            "\n",
            "4 3201 2.621924114227295 2.575608730316162\n",
            "4 6401 2.495684223175049 2.433056116104126\n",
            "4 9601 2.4998268413543703 2.3158063888549805\n"
          ],
          "name": "stdout"
        },
        {
          "output_type": "stream",
          "text": [
            "\r 67%|██████▋   | 4/6 [00:32<00:16,  8.05s/it]"
          ],
          "name": "stderr"
        },
        {
          "output_type": "stream",
          "text": [
            "\n",
            "5 3201 2.5374070835113525 2.3925211429595947\n",
            "5 6401 2.4811302280426024 2.732858180999756\n",
            "5 9601 2.4897368240356443 2.5244858264923096\n"
          ],
          "name": "stdout"
        },
        {
          "output_type": "stream",
          "text": [
            "\r 83%|████████▎ | 5/6 [00:40<00:08,  8.01s/it]"
          ],
          "name": "stderr"
        },
        {
          "output_type": "stream",
          "text": [
            "\n",
            "6 3201 2.54065336227417 2.5538501739501953\n",
            "6 6401 2.432992210388184 2.5280511379241943\n",
            "6 9601 2.424834690093994 2.4537506103515625\n"
          ],
          "name": "stdout"
        },
        {
          "output_type": "stream",
          "text": [
            "100%|██████████| 6/6 [00:48<00:00,  8.01s/it]"
          ],
          "name": "stderr"
        },
        {
          "output_type": "stream",
          "text": [
            "Finished Training\n",
            "Total time taken to train Simple Neural Network:  48.055033922195435\n"
          ],
          "name": "stdout"
        },
        {
          "output_type": "stream",
          "text": [
            "\n"
          ],
          "name": "stderr"
        }
      ]
    },
    {
      "cell_type": "code",
      "metadata": {
        "id": "WIu9Qlv8nBWZ"
      },
      "source": [
        "# saving the trained model\n",
        "torch.save(FN.state_dict(), \"FlatNet_model\")"
      ],
      "execution_count": null,
      "outputs": []
    },
    {
      "cell_type": "markdown",
      "metadata": {
        "id": "1cjRIdMeH3ua"
      },
      "source": [
        "### Prediction on Test set, using the Flat network"
      ]
    },
    {
      "cell_type": "code",
      "metadata": {
        "id": "dPYiZPvFTuuU",
        "outputId": "fa8b5c42-cc46-49bc-f23b-798d6fc89361",
        "colab": {
          "base_uri": "https://localhost:8080/",
          "height": 34
        }
      },
      "source": [
        "# comment this cell block if training from scratch again\n",
        "# also, to run this cell first drop all the trained model present in the shared drive folder Q1_models\n",
        "FN = FlatNetwork()\n",
        "FN.load_state_dict(torch.load(\"FlatNet_model\"))"
      ],
      "execution_count": null,
      "outputs": [
        {
          "output_type": "execute_result",
          "data": {
            "text/plain": [
              "<All keys matched successfully>"
            ]
          },
          "metadata": {
            "tags": []
          },
          "execution_count": 25
        }
      ]
    },
    {
      "cell_type": "code",
      "metadata": {
        "id": "7mTR_a_f3hx2",
        "outputId": "6aec0e48-b9c8-4b99-f764-22bb1ef1fce4",
        "colab": {
          "base_uri": "https://localhost:8080/",
          "height": 134
        }
      },
      "source": [
        "print(FN)   # checking the flat network summary"
      ],
      "execution_count": null,
      "outputs": [
        {
          "output_type": "stream",
          "text": [
            "FlatNetwork(\n",
            "  (fc1): Linear(in_features=3072, out_features=1500, bias=True)\n",
            "  (fc2): Linear(in_features=1500, out_features=840, bias=True)\n",
            "  (fc3): Linear(in_features=840, out_features=300, bias=True)\n",
            "  (fc4): Linear(in_features=300, out_features=100, bias=True)\n",
            "  (fc5): Linear(in_features=100, out_features=20, bias=True)\n",
            ")\n"
          ],
          "name": "stdout"
        }
      ]
    },
    {
      "cell_type": "code",
      "metadata": {
        "id": "4q1Th8H4H0ym"
      },
      "source": [
        "# https://deeplizard.com/learn/video/6vweQjouLEE\n",
        "FN_preds = FN(test_X.reshape(-1,resize*resize*3).float())"
      ],
      "execution_count": null,
      "outputs": []
    },
    {
      "cell_type": "code",
      "metadata": {
        "id": "oM_O8nV1IrsY",
        "outputId": "1ba750de-de9b-4749-ef6b-5af7fd6a1066",
        "colab": {
          "base_uri": "https://localhost:8080/",
          "height": 34
        }
      },
      "source": [
        "# calculating the accuracy on the test set\n",
        "# for different runs of the model, getting accuracy between 59% to 85%\n",
        "print(\"Flat NN model accuracy on test: \", (FN_preds.argmax(dim=1).reshape(-1,1) == test_Y).sum().item() / test_Y.shape[0] *100)"
      ],
      "execution_count": null,
      "outputs": [
        {
          "output_type": "stream",
          "text": [
            "Flat NN model accuracy on test:  61.44390243902439\n"
          ],
          "name": "stdout"
        }
      ]
    },
    {
      "cell_type": "markdown",
      "metadata": {
        "id": "kxyfAr0iab16"
      },
      "source": [
        "\n",
        "\n",
        "---\n",
        "\n",
        "\n",
        "\n",
        "---\n",
        "\n"
      ]
    },
    {
      "cell_type": "markdown",
      "metadata": {
        "id": "8sxd8-3Bagc_"
      },
      "source": [
        "# Part 2. Designing a simple CNN"
      ]
    },
    {
      "cell_type": "code",
      "metadata": {
        "id": "9fZqZpBAaetv"
      },
      "source": [
        "class SCNN(nn.Module):\n",
        "    def __init__(self):\n",
        "        super(SCNN, self).__init__()\n",
        "        self.conv1 = nn.Conv2d(3, 8, 3)\n",
        "        self.fc1 = nn.Linear(15*15* 8, 1200)  # 15 is the mutated image dimension\n",
        "        self.fc2 = nn.Linear(1200, 860)\n",
        "        self.fc3 = nn.Linear(860, 300)\n",
        "        self.fc4 = nn.Linear(300, 100)\n",
        "        self.fc5 = nn.Linear(100, 20)\n",
        "\n",
        "    def forward(self, x):\n",
        "        x = F.max_pool2d(F.relu(self.conv1(x)), 2)\n",
        "        x = x.view(-1, self.num_flat_features(x))\n",
        "        x = F.relu(self.fc1(x))\n",
        "        x = F.relu(self.fc2(x))\n",
        "        x = F.relu(self.fc3(x))\n",
        "        x = F.relu(self.fc4(x))\n",
        "        x = self.fc5(x) # not using softmax() because the loss function F.cross_entropy(), implicitly performs the softmax()\n",
        "        return x\n",
        "\n",
        "    def num_flat_features(self, x):\n",
        "        size = x.size()[1:]\n",
        "        num_feats = 1\n",
        "        for sz in size:\n",
        "            num_feats *= sz\n",
        "        return num_feats\n",
        "      \n",
        "    def intermediary_layer_visualization(self, x):\n",
        "        x = F.max_pool2d(F.relu(self.conv1(x)), 2)\n",
        "        return x"
      ],
      "execution_count": null,
      "outputs": []
    },
    {
      "cell_type": "code",
      "metadata": {
        "id": "O7kUEw-CAQwq"
      },
      "source": [
        "SimpleCNN = SCNN()"
      ],
      "execution_count": null,
      "outputs": []
    },
    {
      "cell_type": "code",
      "metadata": {
        "id": "3G9pE1z2Z9jq"
      },
      "source": [
        "# definig a loss function and optimizer\n",
        "criterion = nn.CrossEntropyLoss()\n",
        "optimizer = optim.SGD(SimpleCNN.parameters(), lr=0.001, momentum=0.9)\n",
        "batch_size = 128"
      ],
      "execution_count": null,
      "outputs": []
    },
    {
      "cell_type": "code",
      "metadata": {
        "id": "yJjg0jNjZcq1",
        "outputId": "26a8e427-805d-4366-891f-0560e584ab61",
        "colab": {
          "base_uri": "https://localhost:8080/",
          "height": 470
        }
      },
      "source": [
        "# using the same training regime as FlatNetwork\n",
        "st = time.time()\n",
        "for epoch in tqdm(range(6)):  # loop over the dataset multiple times\n",
        "\n",
        "    permutation = torch.randperm(train_X.size()[0])\n",
        "    running_loss = 0.0\n",
        "    print()\n",
        "    for i in range(0, train_X.size()[0], batch_size):\n",
        "      ind = permutation[i:i+batch_size]\n",
        "      batch_x = train_X[ind]\n",
        "      batch_y = train_Y[ind]\n",
        "\n",
        "      # zero the parameter gradients\n",
        "      optimizer.zero_grad()\n",
        "\n",
        "      # forward + backward + optimize\n",
        "      outputs = SimpleCNN(batch_x.permute(0,3,1,2).float())\n",
        "      # outputs = outputs.argmax(dim=1).reshape(-1,1)\n",
        "      # print(outputs.shape,batch_ y.shape)\n",
        "      loss = criterion(outputs, batch_y.flatten())\n",
        "      loss.backward()\n",
        "      optimizer.step()\n",
        "\n",
        "      # print statistics\n",
        "      running_loss += loss.item()\n",
        "      if i>0 and (i // batch_size)%25 == 0:    # print after every 25th mini-batch\n",
        "          print(epoch + 1, i + 1, running_loss / 25, loss.item())\n",
        "          running_loss = 0.0\n",
        "\n",
        "print('Finished Training')\n",
        "et = time.time()\n",
        "print(\"Total time taken to train Simple CNN: \", et-st)"
      ],
      "execution_count": null,
      "outputs": [
        {
          "output_type": "stream",
          "text": [
            "\r  0%|          | 0/6 [00:00<?, ?it/s]"
          ],
          "name": "stderr"
        },
        {
          "output_type": "stream",
          "text": [
            "\n",
            "1 3201 2.997080535888672 2.7245702743530273\n",
            "1 6401 2.7007402324676515 2.8900341987609863\n",
            "1 9601 2.634915428161621 2.7631592750549316\n"
          ],
          "name": "stdout"
        },
        {
          "output_type": "stream",
          "text": [
            "\r 17%|█▋        | 1/6 [00:07<00:37,  7.53s/it]"
          ],
          "name": "stderr"
        },
        {
          "output_type": "stream",
          "text": [
            "\n",
            "2 3201 2.659238634109497 2.592139959335327\n",
            "2 6401 2.5404051780700683 2.5830066204071045\n",
            "2 9601 2.523459625244141 2.575188159942627\n"
          ],
          "name": "stdout"
        },
        {
          "output_type": "stream",
          "text": [
            "\r 33%|███▎      | 2/6 [00:14<00:30,  7.51s/it]"
          ],
          "name": "stderr"
        },
        {
          "output_type": "stream",
          "text": [
            "\n",
            "3 3201 2.5088697814941407 2.600996494293213\n",
            "3 6401 2.437874536514282 2.362739086151123\n",
            "3 9601 2.402951326370239 2.272261142730713\n"
          ],
          "name": "stdout"
        },
        {
          "output_type": "stream",
          "text": [
            "\r 50%|█████     | 3/6 [00:22<00:22,  7.48s/it]"
          ],
          "name": "stderr"
        },
        {
          "output_type": "stream",
          "text": [
            "\n",
            "4 3201 2.408182353973389 2.4140844345092773\n",
            "4 6401 2.403565034866333 2.439199447631836\n",
            "4 9601 2.2849067497253417 2.391003131866455\n"
          ],
          "name": "stdout"
        },
        {
          "output_type": "stream",
          "text": [
            "\r 67%|██████▋   | 4/6 [00:29<00:14,  7.46s/it]"
          ],
          "name": "stderr"
        },
        {
          "output_type": "stream",
          "text": [
            "\n",
            "5 3201 2.365308151245117 2.33830189704895\n",
            "5 6401 2.2814448165893553 2.310196876525879\n",
            "5 9601 2.2428333282470705 2.094031810760498\n"
          ],
          "name": "stdout"
        },
        {
          "output_type": "stream",
          "text": [
            "\r 83%|████████▎ | 5/6 [00:37<00:07,  7.46s/it]"
          ],
          "name": "stderr"
        },
        {
          "output_type": "stream",
          "text": [
            "\n",
            "6 3201 2.285907688140869 2.2240865230560303\n",
            "6 6401 2.1793129730224607 2.2320291996002197\n",
            "6 9601 2.1223611974716188 1.9170379638671875\n"
          ],
          "name": "stdout"
        },
        {
          "output_type": "stream",
          "text": [
            "100%|██████████| 6/6 [00:44<00:00,  7.45s/it]"
          ],
          "name": "stderr"
        },
        {
          "output_type": "stream",
          "text": [
            "Finished Training\n",
            "Total time taken to train Simple CNN:  44.73390197753906\n"
          ],
          "name": "stdout"
        },
        {
          "output_type": "stream",
          "text": [
            "\n"
          ],
          "name": "stderr"
        }
      ]
    },
    {
      "cell_type": "code",
      "metadata": {
        "id": "ZByPGC9IfZp0"
      },
      "source": [
        "# saving the trained model\n",
        "torch.save(SimpleCNN.state_dict(), \"SimpleCNN_model\")"
      ],
      "execution_count": null,
      "outputs": []
    },
    {
      "cell_type": "markdown",
      "metadata": {
        "id": "ukCS9iJTfTFx"
      },
      "source": [
        "### Prediction on Test set, using the Flat network"
      ]
    },
    {
      "cell_type": "code",
      "metadata": {
        "id": "2H7k-sCOfVOP",
        "outputId": "21dc1f35-e149-4e9c-cc7f-aed1479328d6",
        "colab": {
          "base_uri": "https://localhost:8080/",
          "height": 34
        }
      },
      "source": [
        "# comment this cell block if training from scratch again\n",
        "# also, to run this cell first drop all the trained model present in the shared drive folder Q1_models\n",
        "SimpleCNN = SCNN()\n",
        "SimpleCNN.load_state_dict(torch.load(\"SimpleCNN_model\"))"
      ],
      "execution_count": null,
      "outputs": [
        {
          "output_type": "execute_result",
          "data": {
            "text/plain": [
              "<All keys matched successfully>"
            ]
          },
          "metadata": {
            "tags": []
          },
          "execution_count": 34
        }
      ]
    },
    {
      "cell_type": "code",
      "metadata": {
        "id": "oKZavDSugwGz",
        "outputId": "d7ee431d-34bd-44ce-e2cc-2e42d1beb8a9",
        "colab": {
          "base_uri": "https://localhost:8080/",
          "height": 151
        }
      },
      "source": [
        "print(SimpleCNN)"
      ],
      "execution_count": null,
      "outputs": [
        {
          "output_type": "stream",
          "text": [
            "SCNN(\n",
            "  (conv1): Conv2d(3, 8, kernel_size=(3, 3), stride=(1, 1))\n",
            "  (fc1): Linear(in_features=1800, out_features=1200, bias=True)\n",
            "  (fc2): Linear(in_features=1200, out_features=860, bias=True)\n",
            "  (fc3): Linear(in_features=860, out_features=300, bias=True)\n",
            "  (fc4): Linear(in_features=300, out_features=100, bias=True)\n",
            "  (fc5): Linear(in_features=100, out_features=20, bias=True)\n",
            ")\n"
          ],
          "name": "stdout"
        }
      ]
    },
    {
      "cell_type": "code",
      "metadata": {
        "id": "MYZ3tKvoaFNt",
        "outputId": "77bdbfa8-9878-458c-f7f2-b5f33b623cc2",
        "colab": {
          "base_uri": "https://localhost:8080/",
          "height": 34
        }
      },
      "source": [
        "SCNN_preds = SimpleCNN(test_X.permute(0,3,1,2).float())\n",
        "print(\"Simple CNN model accuracy on test: \", (SCNN_preds.argmax(dim=1).reshape(-1,1) == test_Y).sum().item() / test_Y.shape[0] *100)"
      ],
      "execution_count": null,
      "outputs": [
        {
          "output_type": "stream",
          "text": [
            "Simple CNN model accuracy on test:  65.60000000000001\n"
          ],
          "name": "stdout"
        }
      ]
    },
    {
      "cell_type": "markdown",
      "metadata": {
        "id": "-CrWJqpWPKeD"
      },
      "source": [
        "### Visualization"
      ]
    },
    {
      "cell_type": "code",
      "metadata": {
        "id": "y1yK1_gJdWDZ",
        "outputId": "d53dd593-fd34-41bf-b286-5e164016f8a4",
        "colab": {
          "base_uri": "https://localhost:8080/",
          "height": 1000
        }
      },
      "source": [
        "# visualizing an intermediate layer output\n",
        "plt.figure(figsize=(8,25))\n",
        "for i in range(8):\n",
        "  plt.subplot(8,1,i+1)\n",
        "  plt.imshow((SimpleCNN.intermediary_layer_visualization(test_X[0].permute(2,0,1).float().reshape(1,3,32,32)))[0][i].detach().numpy())\n",
        "plt.show()\n",
        "plt.imshow(test_X[0])\n",
        "print(\"Label: \", rev_labels[test_Y[0].item()])\n",
        "plt.show()"
      ],
      "execution_count": null,
      "outputs": [
        {
          "output_type": "display_data",
          "data": {
            "image/png": "[encoded data removed]",
            "text/plain": [
              "<Figure size 576x1800 with 8 Axes>"
            ]
          },
          "metadata": {
            "tags": [],
            "needs_background": "light"
          }
        },
        {
          "output_type": "stream",
          "text": [
            "Label:  aeroplane\n"
          ],
          "name": "stdout"
        },
        {
          "output_type": "display_data",
          "data": {
            "image/png": "[encoded data removed]",
            "text/plain": [
              "<Figure size 432x288 with 1 Axes>"
            ]
          },
          "metadata": {
            "tags": [],
            "needs_background": "light"
          }
        }
      ]
    },
    {
      "cell_type": "markdown",
      "metadata": {
        "id": "HGqqzW6Kg9Af"
      },
      "source": [
        "\n",
        "\n",
        "---\n",
        "\n",
        "\n",
        "\n",
        "---\n",
        "\n"
      ]
    },
    {
      "cell_type": "markdown",
      "metadata": {
        "id": "3HoMsbkSneVf"
      },
      "source": [
        "# Part 3. Designing a Deep CNN"
      ]
    },
    {
      "cell_type": "code",
      "metadata": {
        "id": "wngqrErFg-L-"
      },
      "source": [
        "# https://missinglink.ai/guides/pytorch/pytorch-resnet-building-training-scaling-residual-networks-pytorch/"
      ],
      "execution_count": null,
      "outputs": []
    },
    {
      "cell_type": "code",
      "metadata": {
        "id": "cre1FwD4pWtT"
      },
      "source": [
        "# first creating a basic block module\n",
        "class BasicBlock(nn.Module):\n",
        "    expansion = 1\n",
        "    def __init__(self, in_c, out_c, stride=1):\n",
        "      super(BasicBlock, self).__init__()\n",
        "      self.conv1 = nn.Conv2d(in_c, out_c, kernel_size=3, stride=stride, padding=1, bias=False)\n",
        "      self.bn1 = nn.BatchNorm2d(out_c)\n",
        "      self.conv2 = nn.Conv2d(out_c, out_c, kernel_size=3, stride=1, padding=1, bias=False)\n",
        "      self.bn2 = nn.BatchNorm2d(out_c)\n",
        "\n",
        "      self.skip = nn.Sequential()\n",
        "      if stride != 1 or in_c != self.expansion*out_c:\n",
        "          self.skip = nn.Sequential(nn.Conv2d(in_c, self.expansion*out_c, kernel_size=1, stride=stride, bias=False),\n",
        "                                    nn.BatchNorm2d(self.expansion*out_c))\n",
        "    \n",
        "    def forward(self, x):\n",
        "      out = F.relu(self.bn1(self.conv1(x)))\n",
        "      out = self.bn2(self.conv2(out))\n",
        "      out += self.skip(x)\n",
        "      out = F.relu(out)\n",
        "      return out"
      ],
      "execution_count": null,
      "outputs": []
    },
    {
      "cell_type": "code",
      "metadata": {
        "id": "4UIYi7BprEWg"
      },
      "source": [
        "# the resnet module\n",
        "class ResNet(nn.Module):\n",
        "  def __init__(self, block, num_blocks, num_classes=20):\n",
        "      super(ResNet, self).__init__()\n",
        "      self.in_c = 64\n",
        "      self.conv1 = nn.Conv2d(3, 64, kernel_size=3, stride=1, padding=1, bias=False)\n",
        "      self.bn1 = nn.BatchNorm2d(64)\n",
        "      self.layer1 = self._make_layer(block, 64, num_blocks[0], stride=1)\n",
        "      self.layer2 = self._make_layer(block, 128, num_blocks[1], stride=2)\n",
        "      self.layer3 = self._make_layer(block, 256, num_blocks[2], stride=2)\n",
        "      self.layer4 = self._make_layer(block, 512, num_blocks[3], stride=2)\n",
        "      self.linear = nn.Linear(512*block.expansion, num_classes)\n",
        "\n",
        "  def _make_layer(self, block, out_c, num_blocks, stride):\n",
        "      strides = [stride] + [1]*(num_blocks-1)\n",
        "      layers = []\n",
        "      for stride in strides:\n",
        "          layers.append(block(self.in_c, out_c, stride))\n",
        "          self.in_c = out_c * block.expansion\n",
        "      return nn.Sequential(*layers)\n",
        "\n",
        "  def forward(self, x):\n",
        "      out = F.relu(self.bn1(self.conv1(x)))\n",
        "      out = self.layer1(out)\n",
        "      out = self.layer2(out)\n",
        "      out = self.layer3(out)\n",
        "      out = self.layer4(out)\n",
        "      out = F.avg_pool2d(out, 4)\n",
        "      out = out.view(out.size(0), -1)\n",
        "      out = self.linear(out)\n",
        "      return out\n",
        "\n",
        "  def intermediary_layer_visualization(self, x):\n",
        "      out = F.relu(self.bn1(self.conv1(x)))\n",
        "      out = self.layer1(out)\n",
        "      out = self.layer2(out)\n",
        "      return out"
      ],
      "execution_count": null,
      "outputs": []
    },
    {
      "cell_type": "code",
      "metadata": {
        "id": "NIvNAulkujEe"
      },
      "source": [
        "resnet18 = ResNet(BasicBlock, [2, 2, 2, 2])"
      ],
      "execution_count": null,
      "outputs": []
    },
    {
      "cell_type": "code",
      "metadata": {
        "id": "q-cVnEmOukBC"
      },
      "source": [
        "# definig a loss function and optimizer\n",
        "criterion = nn.CrossEntropyLoss()\n",
        "optimizer = optim.SGD(resnet18.parameters(), lr=0.001, momentum=0.9)\n",
        "batch_size = 128"
      ],
      "execution_count": null,
      "outputs": []
    },
    {
      "cell_type": "code",
      "metadata": {
        "id": "UjxfElUpu3L-",
        "outputId": "8de6b4e5-ba79-4f03-e54f-70a2277b6dbd",
        "colab": {
          "base_uri": "https://localhost:8080/",
          "height": 840
        }
      },
      "source": [
        "# using the same training regime as FlatNetwork\n",
        "st = time.time()\n",
        "for epoch in tqdm(range(1)):  # loop over the dataset multiple times\n",
        "    permutation = torch.randperm(train_X.size()[0])\n",
        "    running_loss = 0.0\n",
        "    for i in range(0, train_X.size()[0], batch_size):\n",
        "      ind = permutation[i:i+batch_size]\n",
        "      batch_x = train_X[ind]\n",
        "      batch_y = train_Y[ind]\n",
        "\n",
        "      # zero the parameter gradients\n",
        "      optimizer.zero_grad()\n",
        "\n",
        "      # forward + backward + optimize\n",
        "      outputs = resnet18(batch_x.permute(0,3,1,2).float())\n",
        "      # outputs = outputs.argmax(dim=1).reshape(-1,1)\n",
        "      # print(outputs.shape,batch_ y.shape)\n",
        "      loss = criterion(outputs, batch_y.flatten())\n",
        "      loss.backward()\n",
        "      optimizer.step()\n",
        "\n",
        "      # print statistics\n",
        "      running_loss += loss.item()\n",
        "      if i>0 and (i // batch_size)%2 == 0:    # print after every 3rd mini-batch\n",
        "          print(epoch + 1, i + 1, running_loss / 25, loss.item())\n",
        "          running_loss = 0.0\n",
        "\n",
        "print('Finished Training')\n",
        "et = time.time()\n",
        "print(\"Total time taken to train Resnet34: \", et-st)"
      ],
      "execution_count": null,
      "outputs": [
        {
          "output_type": "stream",
          "text": [
            "\r  0%|          | 0/1 [00:00<?, ?it/s]"
          ],
          "name": "stderr"
        },
        {
          "output_type": "stream",
          "text": [
            "1 257 0.37158143043518066 3.083411455154419\n",
            "1 513 0.24306005477905274 2.9742817878723145\n",
            "1 769 0.23510108947753905 2.953247547149658\n",
            "1 1025 0.22517794609069824 2.819289445877075\n",
            "1 1281 0.2165866184234619 2.6517999172210693\n",
            "1 1537 0.2200999927520752 2.8003058433532715\n",
            "1 1793 0.23582119941711427 2.9000699520111084\n",
            "1 2049 0.21579333305358886 2.6764936447143555\n",
            "1 2305 0.21982352256774904 2.6978464126586914\n",
            "1 2561 0.21846712112426758 2.6119775772094727\n",
            "1 2817 0.22317808151245117 2.786220073699951\n",
            "1 3073 0.2149420738220215 2.698617458343506\n",
            "1 3329 0.21824949264526367 2.69535231590271\n",
            "1 3585 0.21822592735290527 2.728020429611206\n",
            "1 3841 0.21941370010375977 2.7664732933044434\n",
            "1 4097 0.20849353790283204 2.5747320652008057\n",
            "1 4353 0.2071600914001465 2.5872650146484375\n",
            "1 4609 0.2055959129333496 2.535020351409912\n",
            "1 4865 0.20579618453979492 2.623884677886963\n",
            "1 5121 0.21231640815734865 2.70529842376709\n",
            "1 5377 0.21206350326538087 2.7108640670776367\n",
            "1 5633 0.21028130531311034 2.691389322280884\n",
            "1 5889 0.21050969123840332 2.6205832958221436\n",
            "1 6145 0.20711260795593261 2.5695292949676514\n",
            "1 6401 0.20864462852478027 2.5433735847473145\n",
            "1 6657 0.2015529727935791 2.501084089279175\n",
            "1 6913 0.20769343376159669 2.593325138092041\n",
            "1 7169 0.21060227394104003 2.682042121887207\n",
            "1 7425 0.20305415153503417 2.547987937927246\n",
            "1 7681 0.19760626792907715 2.458528995513916\n",
            "1 7937 0.2133687973022461 2.7273337841033936\n",
            "1 8193 0.19221346855163574 2.444549798965454\n",
            "1 8449 0.21016579627990722 2.702500581741333\n",
            "1 8705 0.20225629806518555 2.5022385120391846\n",
            "1 8961 0.1973628044128418 2.541053056716919\n",
            "1 9217 0.2050731086730957 2.5860257148742676\n",
            "1 9473 0.20209392547607422 2.550036668777466\n",
            "1 9729 0.2116710948944092 2.662675619125366\n",
            "1 9985 0.20451807022094726 2.636539936065674\n",
            "1 10241 0.20179944038391112 2.474834680557251\n",
            "1 10497 0.1964563274383545 2.4424972534179688\n",
            "1 10753 0.19770827293395996 2.4376628398895264\n",
            "1 11009 0.18964881896972657 2.3328964710235596\n",
            "1 11265 0.196496639251709 2.4962286949157715\n",
            "1 11521 0.19390539169311524 2.4932751655578613\n",
            "1 11777 0.19748380661010742 2.4990952014923096\n"
          ],
          "name": "stdout"
        },
        {
          "output_type": "stream",
          "text": [
            "100%|██████████| 1/1 [15:17<00:00, 917.18s/it]"
          ],
          "name": "stderr"
        },
        {
          "output_type": "stream",
          "text": [
            "Finished Training\n",
            "Total time taken to train Resnet34:  917.1806728839874\n"
          ],
          "name": "stdout"
        },
        {
          "output_type": "stream",
          "text": [
            "\n"
          ],
          "name": "stderr"
        }
      ]
    },
    {
      "cell_type": "code",
      "metadata": {
        "id": "x4poIvguEnlT"
      },
      "source": [
        "# saving the trained model\n",
        "torch.save(resnet18.state_dict(), \"resnet18_model\")"
      ],
      "execution_count": null,
      "outputs": []
    },
    {
      "cell_type": "markdown",
      "metadata": {
        "id": "5wx352umIX7L"
      },
      "source": [
        "### Prediction on Test set, using the resnet18 network"
      ]
    },
    {
      "cell_type": "code",
      "metadata": {
        "id": "EVHPtTmVIXGl",
        "outputId": "7eaec1e6-ebaf-459b-9537-ee7d5be3b783",
        "colab": {
          "base_uri": "https://localhost:8080/",
          "height": 34
        }
      },
      "source": [
        "# comment this cell block if training from scratch again\n",
        "# also, to run this cell first drop all the trained model present in the shared drive folder Q1_models\n",
        "resnet18 = ResNet(BasicBlock, [2, 2, 2, 2])\n",
        "resnet18.load_state_dict(torch.load(\"resnet18_model\"))"
      ],
      "execution_count": null,
      "outputs": [
        {
          "output_type": "execute_result",
          "data": {
            "text/plain": [
              "<All keys matched successfully>"
            ]
          },
          "metadata": {
            "tags": []
          },
          "execution_count": 54
        }
      ]
    },
    {
      "cell_type": "code",
      "metadata": {
        "id": "TiVIZw_iNsKZ",
        "outputId": "fa243700-cd14-4e87-e8f8-c414aa65941f",
        "colab": {
          "base_uri": "https://localhost:8080/",
          "height": 1000
        }
      },
      "source": [
        "print(resnet18)"
      ],
      "execution_count": null,
      "outputs": [
        {
          "output_type": "stream",
          "text": [
            "ResNet(\n",
            "  (conv1): Conv2d(3, 64, kernel_size=(3, 3), stride=(1, 1), padding=(1, 1), bias=False)\n",
            "  (bn1): BatchNorm2d(64, eps=1e-05, momentum=0.1, affine=True, track_running_stats=True)\n",
            "  (layer1): Sequential(\n",
            "    (0): BasicBlock(\n",
            "      (conv1): Conv2d(64, 64, kernel_size=(3, 3), stride=(1, 1), padding=(1, 1), bias=False)\n",
            "      (bn1): BatchNorm2d(64, eps=1e-05, momentum=0.1, affine=True, track_running_stats=True)\n",
            "      (conv2): Conv2d(64, 64, kernel_size=(3, 3), stride=(1, 1), padding=(1, 1), bias=False)\n",
            "      (bn2): BatchNorm2d(64, eps=1e-05, momentum=0.1, affine=True, track_running_stats=True)\n",
            "      (skip): Sequential()\n",
            "    )\n",
            "    (1): BasicBlock(\n",
            "      (conv1): Conv2d(64, 64, kernel_size=(3, 3), stride=(1, 1), padding=(1, 1), bias=False)\n",
            "      (bn1): BatchNorm2d(64, eps=1e-05, momentum=0.1, affine=True, track_running_stats=True)\n",
            "      (conv2): Conv2d(64, 64, kernel_size=(3, 3), stride=(1, 1), padding=(1, 1), bias=False)\n",
            "      (bn2): BatchNorm2d(64, eps=1e-05, momentum=0.1, affine=True, track_running_stats=True)\n",
            "      (skip): Sequential()\n",
            "    )\n",
            "  )\n",
            "  (layer2): Sequential(\n",
            "    (0): BasicBlock(\n",
            "      (conv1): Conv2d(64, 128, kernel_size=(3, 3), stride=(2, 2), padding=(1, 1), bias=False)\n",
            "      (bn1): BatchNorm2d(128, eps=1e-05, momentum=0.1, affine=True, track_running_stats=True)\n",
            "      (conv2): Conv2d(128, 128, kernel_size=(3, 3), stride=(1, 1), padding=(1, 1), bias=False)\n",
            "      (bn2): BatchNorm2d(128, eps=1e-05, momentum=0.1, affine=True, track_running_stats=True)\n",
            "      (skip): Sequential(\n",
            "        (0): Conv2d(64, 128, kernel_size=(1, 1), stride=(2, 2), bias=False)\n",
            "        (1): BatchNorm2d(128, eps=1e-05, momentum=0.1, affine=True, track_running_stats=True)\n",
            "      )\n",
            "    )\n",
            "    (1): BasicBlock(\n",
            "      (conv1): Conv2d(128, 128, kernel_size=(3, 3), stride=(1, 1), padding=(1, 1), bias=False)\n",
            "      (bn1): BatchNorm2d(128, eps=1e-05, momentum=0.1, affine=True, track_running_stats=True)\n",
            "      (conv2): Conv2d(128, 128, kernel_size=(3, 3), stride=(1, 1), padding=(1, 1), bias=False)\n",
            "      (bn2): BatchNorm2d(128, eps=1e-05, momentum=0.1, affine=True, track_running_stats=True)\n",
            "      (skip): Sequential()\n",
            "    )\n",
            "  )\n",
            "  (layer3): Sequential(\n",
            "    (0): BasicBlock(\n",
            "      (conv1): Conv2d(128, 256, kernel_size=(3, 3), stride=(2, 2), padding=(1, 1), bias=False)\n",
            "      (bn1): BatchNorm2d(256, eps=1e-05, momentum=0.1, affine=True, track_running_stats=True)\n",
            "      (conv2): Conv2d(256, 256, kernel_size=(3, 3), stride=(1, 1), padding=(1, 1), bias=False)\n",
            "      (bn2): BatchNorm2d(256, eps=1e-05, momentum=0.1, affine=True, track_running_stats=True)\n",
            "      (skip): Sequential(\n",
            "        (0): Conv2d(128, 256, kernel_size=(1, 1), stride=(2, 2), bias=False)\n",
            "        (1): BatchNorm2d(256, eps=1e-05, momentum=0.1, affine=True, track_running_stats=True)\n",
            "      )\n",
            "    )\n",
            "    (1): BasicBlock(\n",
            "      (conv1): Conv2d(256, 256, kernel_size=(3, 3), stride=(1, 1), padding=(1, 1), bias=False)\n",
            "      (bn1): BatchNorm2d(256, eps=1e-05, momentum=0.1, affine=True, track_running_stats=True)\n",
            "      (conv2): Conv2d(256, 256, kernel_size=(3, 3), stride=(1, 1), padding=(1, 1), bias=False)\n",
            "      (bn2): BatchNorm2d(256, eps=1e-05, momentum=0.1, affine=True, track_running_stats=True)\n",
            "      (skip): Sequential()\n",
            "    )\n",
            "  )\n",
            "  (layer4): Sequential(\n",
            "    (0): BasicBlock(\n",
            "      (conv1): Conv2d(256, 512, kernel_size=(3, 3), stride=(2, 2), padding=(1, 1), bias=False)\n",
            "      (bn1): BatchNorm2d(512, eps=1e-05, momentum=0.1, affine=True, track_running_stats=True)\n",
            "      (conv2): Conv2d(512, 512, kernel_size=(3, 3), stride=(1, 1), padding=(1, 1), bias=False)\n",
            "      (bn2): BatchNorm2d(512, eps=1e-05, momentum=0.1, affine=True, track_running_stats=True)\n",
            "      (skip): Sequential(\n",
            "        (0): Conv2d(256, 512, kernel_size=(1, 1), stride=(2, 2), bias=False)\n",
            "        (1): BatchNorm2d(512, eps=1e-05, momentum=0.1, affine=True, track_running_stats=True)\n",
            "      )\n",
            "    )\n",
            "    (1): BasicBlock(\n",
            "      (conv1): Conv2d(512, 512, kernel_size=(3, 3), stride=(1, 1), padding=(1, 1), bias=False)\n",
            "      (bn1): BatchNorm2d(512, eps=1e-05, momentum=0.1, affine=True, track_running_stats=True)\n",
            "      (conv2): Conv2d(512, 512, kernel_size=(3, 3), stride=(1, 1), padding=(1, 1), bias=False)\n",
            "      (bn2): BatchNorm2d(512, eps=1e-05, momentum=0.1, affine=True, track_running_stats=True)\n",
            "      (skip): Sequential()\n",
            "    )\n",
            "  )\n",
            "  (linear): Linear(in_features=512, out_features=20, bias=True)\n",
            ")\n"
          ],
          "name": "stdout"
        }
      ]
    },
    {
      "cell_type": "code",
      "metadata": {
        "id": "YzdSAJfLGc8_",
        "outputId": "99eb2b2d-9366-4e47-f00b-c09dbb8bc9e3",
        "colab": {
          "base_uri": "https://localhost:8080/",
          "height": 722
        }
      },
      "source": [
        "# Since the architechture is deeper, we want to test predictions in batches\n",
        "test_batch_size = 125\n",
        "acc_sum = 0\n",
        "for bat,i in enumerate(range(0, test_X.size()[0], test_batch_size)):\n",
        "      #ind = [i:i+test_batch_size]\n",
        "      batch_x = test_X[i:i+test_batch_size]\n",
        "      batch_y = test_Y[i:i+test_batch_size]\n",
        "      res_preds = resnet18(batch_x.permute(0,3,1,2).float())\n",
        "      acc_sum += (res_preds.argmax(dim=1).reshape(-1,1) == batch_y).sum().item() / batch_y.shape[0] *100\n",
        "      print(\"RESNET CNN model accuracy on test batch\", bat+1,\": \", (res_preds.argmax(dim=1).reshape(-1,1) == batch_y).sum().item() / batch_y.shape[0] *100)\n",
        "print(\"RESNET CNN model overall accuracy on test set is: \", acc_sum/(test_Y.shape[0]/test_batch_size))"
      ],
      "execution_count": null,
      "outputs": [
        {
          "output_type": "stream",
          "text": [
            "RESNET CNN model accuracy on test batch 1 :  25.6\n",
            "RESNET CNN model accuracy on test batch 2 :  16.8\n",
            "RESNET CNN model accuracy on test batch 3 :  18.4\n",
            "RESNET CNN model accuracy on test batch 4 :  24.0\n",
            "RESNET CNN model accuracy on test batch 5 :  26.400000000000002\n",
            "RESNET CNN model accuracy on test batch 6 :  28.000000000000004\n",
            "RESNET CNN model accuracy on test batch 7 :  17.599999999999998\n",
            "RESNET CNN model accuracy on test batch 8 :  22.400000000000002\n",
            "RESNET CNN model accuracy on test batch 9 :  88.0\n",
            "RESNET CNN model accuracy on test batch 10 :  81.6\n",
            "RESNET CNN model accuracy on test batch 11 :  82.39999999999999\n",
            "RESNET CNN model accuracy on test batch 12 :  86.4\n",
            "RESNET CNN model accuracy on test batch 13 :  80.0\n",
            "RESNET CNN model accuracy on test batch 14 :  83.2\n",
            "RESNET CNN model accuracy on test batch 15 :  82.39999999999999\n",
            "RESNET CNN model accuracy on test batch 16 :  84.0\n",
            "RESNET CNN model accuracy on test batch 17 :  87.2\n",
            "RESNET CNN model accuracy on test batch 18 :  84.0\n",
            "RESNET CNN model accuracy on test batch 19 :  84.0\n",
            "RESNET CNN model accuracy on test batch 20 :  80.80000000000001\n",
            "RESNET CNN model accuracy on test batch 21 :  83.2\n",
            "RESNET CNN model accuracy on test batch 22 :  76.0\n",
            "RESNET CNN model accuracy on test batch 23 :  82.39999999999999\n",
            "RESNET CNN model accuracy on test batch 24 :  88.0\n",
            "RESNET CNN model accuracy on test batch 25 :  85.6\n",
            "RESNET CNN model accuracy on test batch 26 :  80.0\n",
            "RESNET CNN model accuracy on test batch 27 :  80.80000000000001\n",
            "RESNET CNN model accuracy on test batch 28 :  84.0\n",
            "RESNET CNN model accuracy on test batch 29 :  88.8\n",
            "RESNET CNN model accuracy on test batch 30 :  82.39999999999999\n",
            "RESNET CNN model accuracy on test batch 31 :  84.0\n",
            "RESNET CNN model accuracy on test batch 32 :  78.4\n",
            "RESNET CNN model accuracy on test batch 33 :  84.0\n",
            "RESNET CNN model accuracy on test batch 34 :  77.60000000000001\n",
            "RESNET CNN model accuracy on test batch 35 :  82.39999999999999\n",
            "RESNET CNN model accuracy on test batch 36 :  84.8\n",
            "RESNET CNN model accuracy on test batch 37 :  79.2\n",
            "RESNET CNN model accuracy on test batch 38 :  84.8\n",
            "RESNET CNN model accuracy on test batch 39 :  85.6\n",
            "RESNET CNN model accuracy on test batch 40 :  80.0\n",
            "RESNET CNN model accuracy on test batch 41 :  84.0\n",
            "RESNET CNN model overall accuracy on test set is:  71.2\n"
          ],
          "name": "stdout"
        }
      ]
    },
    {
      "cell_type": "markdown",
      "metadata": {
        "id": "5egq6z-bPEhq"
      },
      "source": [
        "### Visulization"
      ]
    },
    {
      "cell_type": "code",
      "metadata": {
        "id": "iCydoDOSy6B4",
        "outputId": "421d394b-fc97-42bb-8514-eacc0f27ce72",
        "colab": {
          "base_uri": "https://localhost:8080/",
          "height": 1000
        }
      },
      "source": [
        "# visualizing an intermediate layer output of first 8 channels\n",
        "plt.figure(figsize=(8,25))\n",
        "for i in range(8):\n",
        "  plt.subplot(8,1,i+1)\n",
        "  plt.imshow((resnet18.intermediary_layer_visualization(test_X[0].permute(2,0,1).float().reshape(1,3,32,32)))[0][i].detach().numpy())\n",
        "plt.show()\n",
        "plt.imshow(test_X[0])\n",
        "print(\"Label: \", rev_labels[test_Y[0].item()])\n",
        "plt.show()"
      ],
      "execution_count": null,
      "outputs": [
        {
          "output_type": "display_data",
          "data": {
            "image/png": "[encoded data removed]",
            "text/plain": [
              "<Figure size 576x1800 with 8 Axes>"
            ]
          },
          "metadata": {
            "tags": [],
            "needs_background": "light"
          }
        },
        {
          "output_type": "stream",
          "text": [
            "Label:  aeroplane\n"
          ],
          "name": "stdout"
        },
        {
          "output_type": "display_data",
          "data": {
            "image/png": "[encoded data removed]",
            "text/plain": [
              "<Figure size 432x288 with 1 Axes>"
            ]
          },
          "metadata": {
            "tags": [],
            "needs_background": "light"
          }
        }
      ]
    },
    {
      "cell_type": "code",
      "metadata": {
        "id": "jjWil8nZ8-OM"
      },
      "source": [
        ""
      ],
      "execution_count": null,
      "outputs": []
    },
    {
      "cell_type": "markdown",
      "metadata": {
        "id": "9ABp7srBPqgi"
      },
      "source": [
        "# Analysis and comparision"
      ]
    },
    {
      "cell_type": "markdown",
      "metadata": {
        "id": "oX2-EplpQSeW"
      },
      "source": [
        "**Time Comparision**\n",
        "* The Flat Neural Network took **48.05s** to complete training for 6 epochs on 12000 images of size 32x32x3 (i.e. 3 channels RGB)\n",
        "* The Simple CNN with single convolution and pooling layer took **44.73s** to complete the training procedure for 6 epochs\n",
        "* The Deep CNN i.e. Resnet18 architecture took **917.18s** to complete the training process for a single epoch. \n",
        "\n",
        "**Accuracy on test set**\n",
        "* Flat NN model accuracy on test:  **61.44390243902439 %**\n",
        "* Simple CNN model accuracy on test:  **65.60000000000001 %**\n",
        "* RESNET CNN model overall accuracy on test set is:  **71.2 %**\n",
        "\n",
        "**Final Thoughts**\n",
        "* Since the overall dataset size is roughly 17000, deep networks like resnet gives average performance as this network has a huge hunger for data, which the current dataset does'nt provide much."
      ]
    },
    {
      "cell_type": "code",
      "metadata": {
        "id": "W3Kk1boTLKk3"
      },
      "source": [
        ""
      ],
      "execution_count": null,
      "outputs": []
    }
  ]
}
